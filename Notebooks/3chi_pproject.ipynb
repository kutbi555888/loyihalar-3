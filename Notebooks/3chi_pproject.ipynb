{
 "cells": [
  {
   "cell_type": "code",
   "execution_count": 1,
   "id": "a5420ed0",
   "metadata": {},
   "outputs": [],
   "source": [
    "import pandas as pd\n",
    "import numpy as np\n",
    "import matplotlib.pyplot as plt\n",
    "import seaborn as sns\n",
    "import os\n",
    "\n",
    "# 1️⃣ Datasetni o‘qish\n",
    "df = pd.read_csv(\"C:/Users/xolmu/OneDrive/Desktop/3chi_project/Data/Raw_Data/energydata_complete.csv\")"
   ]
  },
  {
   "cell_type": "code",
   "execution_count": 2,
   "id": "7d526261",
   "metadata": {},
   "outputs": [
    {
     "name": "stdout",
     "output_type": "stream",
     "text": [
      "<class 'pandas.core.frame.DataFrame'>\n",
      "RangeIndex: 19739 entries, 0 to 19738\n",
      "Data columns (total 29 columns):\n",
      " #   Column       Non-Null Count  Dtype  \n",
      "---  ------       --------------  -----  \n",
      " 0   date         19739 non-null  object \n",
      " 1   Appliances   19739 non-null  object \n",
      " 2   lights       19736 non-null  object \n",
      " 3   T1           19735 non-null  float64\n",
      " 4   RH_1         19735 non-null  float64\n",
      " 5   T2           19735 non-null  float64\n",
      " 6   RH_2         19735 non-null  float64\n",
      " 7   T3           19735 non-null  float64\n",
      " 8   RH_3         19735 non-null  float64\n",
      " 9   T4           19735 non-null  float64\n",
      " 10  RH_4         19735 non-null  float64\n",
      " 11  T5           19735 non-null  float64\n",
      " 12  RH_5         19735 non-null  float64\n",
      " 13  T6           19735 non-null  float64\n",
      " 14  RH_6         19735 non-null  float64\n",
      " 15  T7           19735 non-null  float64\n",
      " 16  RH_7         19735 non-null  float64\n",
      " 17  T8           19735 non-null  float64\n",
      " 18  RH_8         19735 non-null  float64\n",
      " 19  T9           19735 non-null  float64\n",
      " 20  RH_9         19735 non-null  float64\n",
      " 21  T_out        19735 non-null  float64\n",
      " 22  Press_mm_hg  19735 non-null  float64\n",
      " 23  RH_out       19735 non-null  float64\n",
      " 24  Windspeed    19735 non-null  float64\n",
      " 25  Visibility   19735 non-null  float64\n",
      " 26  Tdewpoint    19735 non-null  float64\n",
      " 27  rv1          19735 non-null  float64\n",
      " 28  rv2          19735 non-null  float64\n",
      "dtypes: float64(26), object(3)\n",
      "memory usage: 4.4+ MB\n"
     ]
    }
   ],
   "source": [
    "df.info()"
   ]
  },
  {
   "cell_type": "markdown",
   "id": "cc52e7fb",
   "metadata": {},
   "source": [
    "# Data preprocessing"
   ]
  },
  {
   "cell_type": "code",
   "execution_count": 3,
   "id": "eb01e959",
   "metadata": {},
   "outputs": [],
   "source": [
    "# class\n",
    "import pandas as pd\n",
    "import numpy as np\n",
    "from sklearn.preprocessing import LabelEncoder, MinMaxScaler\n",
    "\n",
    "class Datapreprocessing:\n",
    "    def __init__(self, df):\n",
    "        self.df = df.copy()\n",
    "    \n",
    "    # Handle missing values\n",
    "    def tozala(self):\n",
    "        for col in self.df.columns:\n",
    "            if self.df[col].isnull().any():\n",
    "                if self.df[col].dtype == 'object':\n",
    "                    self.df[col].fillna(self.df[col].mode()[0], inplace=True)\n",
    "                else:\n",
    "                    self.df[col].fillna(self.df[col].mean(), inplace=True)\n",
    "        return self\n",
    "    \n",
    "    # Encode categorical variables\n",
    "    def encodla(self):\n",
    "        encoder = LabelEncoder()\n",
    "        for col in self.df.columns:\n",
    "            if self.df[col].dtype == 'object':\n",
    "                if self.df[col].nunique() <= 5:  # few categories → OneHot\n",
    "                    dummies = pd.get_dummies(self.df[col], prefix=col, dtype=int)\n",
    "                    self.df = pd.concat([self.df.drop(columns=[col]), dummies], axis=1)\n",
    "                else:  # many categories → Label Encoding\n",
    "                    self.df[col] = encoder.fit_transform(self.df[col])\n",
    "        return self\n",
    "    \n",
    "    # Scale numeric features\n",
    "    def scale_qil(self):\n",
    "        scaler = MinMaxScaler()\n",
    "        num_cols = self.df.select_dtypes(include=['int64', 'float64']).columns.drop('xG', errors='ignore')\n",
    "        self.df[num_cols] = scaler.fit_transform(self.df[num_cols])\n",
    "        return self"
   ]
  },
  {
   "cell_type": "code",
   "execution_count": 4,
   "id": "6688d378",
   "metadata": {},
   "outputs": [
    {
     "name": "stdout",
     "output_type": "stream",
     "text": [
      "   date  Appliances  lights       T1      RH_1        T2      RH_2        T3  \\\n",
      "0  5760          59       4  0.32735  0.566187  0.225345  0.684038  0.215188   \n",
      "1  5761          59       4  0.32735  0.541326  0.225345  0.682140  0.215188   \n",
      "2  5762          48       4  0.32735  0.530502  0.225345  0.679445  0.215188   \n",
      "3  5763          48       5  0.32735  0.524080  0.225345  0.678414  0.215188   \n",
      "4  5764          59       5  0.32735  0.531419  0.225345  0.676727  0.215188   \n",
      "\n",
      "       RH_3        T4  ...        T9      RH_9     T_out  Press_mm_hg  \\\n",
      "0  0.746066  0.351351  ...  0.223032  0.677290  0.372990     0.097674   \n",
      "1  0.748871  0.351351  ...  0.226500  0.678532  0.369132     0.100000   \n",
      "2  0.755569  0.344745  ...  0.219563  0.676049  0.365595     0.102326   \n",
      "3  0.758685  0.341441  ...  0.219563  0.671909  0.361736     0.104651   \n",
      "4  0.758685  0.341441  ...  0.219563  0.671909  0.357878     0.106977   \n",
      "\n",
      "     RH_out  Windspeed  Visibility  Tdewpoint       rv1       rv2  \n",
      "0  0.894737   0.500000    0.953846   0.538462  0.265449  0.265449  \n",
      "1  0.894737   0.476190    0.894872   0.533937  0.372083  0.372083  \n",
      "2  0.894737   0.452381    0.835897   0.529412  0.572848  0.572848  \n",
      "3  0.894737   0.428571    0.776923   0.524887  0.908261  0.908261  \n",
      "4  0.894737   0.404762    0.717949   0.520362  0.201611  0.201611  \n",
      "\n",
      "[5 rows x 29 columns]\n"
     ]
    }
   ],
   "source": [
    "preprocessor = Datapreprocessing(df)\n",
    "\n",
    "data = (\n",
    "    preprocessor\n",
    "    .tozala()\n",
    "    .encodla()\n",
    "    .scale_qil()\n",
    "    .df\n",
    ")\n",
    "\n",
    "print(data.head())"
   ]
  },
  {
   "cell_type": "code",
   "execution_count": 5,
   "id": "b67e3294",
   "metadata": {},
   "outputs": [
    {
     "name": "stdout",
     "output_type": "stream",
     "text": [
      "<class 'pandas.core.frame.DataFrame'>\n",
      "RangeIndex: 19739 entries, 0 to 19738\n",
      "Data columns (total 29 columns):\n",
      " #   Column       Non-Null Count  Dtype  \n",
      "---  ------       --------------  -----  \n",
      " 0   date         19739 non-null  int32  \n",
      " 1   Appliances   19739 non-null  int32  \n",
      " 2   lights       19739 non-null  int32  \n",
      " 3   T1           19739 non-null  float64\n",
      " 4   RH_1         19739 non-null  float64\n",
      " 5   T2           19739 non-null  float64\n",
      " 6   RH_2         19739 non-null  float64\n",
      " 7   T3           19739 non-null  float64\n",
      " 8   RH_3         19739 non-null  float64\n",
      " 9   T4           19739 non-null  float64\n",
      " 10  RH_4         19739 non-null  float64\n",
      " 11  T5           19739 non-null  float64\n",
      " 12  RH_5         19739 non-null  float64\n",
      " 13  T6           19739 non-null  float64\n",
      " 14  RH_6         19739 non-null  float64\n",
      " 15  T7           19739 non-null  float64\n",
      " 16  RH_7         19739 non-null  float64\n",
      " 17  T8           19739 non-null  float64\n",
      " 18  RH_8         19739 non-null  float64\n",
      " 19  T9           19739 non-null  float64\n",
      " 20  RH_9         19739 non-null  float64\n",
      " 21  T_out        19739 non-null  float64\n",
      " 22  Press_mm_hg  19739 non-null  float64\n",
      " 23  RH_out       19739 non-null  float64\n",
      " 24  Windspeed    19739 non-null  float64\n",
      " 25  Visibility   19739 non-null  float64\n",
      " 26  Tdewpoint    19739 non-null  float64\n",
      " 27  rv1          19739 non-null  float64\n",
      " 28  rv2          19739 non-null  float64\n",
      "dtypes: float64(26), int32(3)\n",
      "memory usage: 4.1 MB\n"
     ]
    }
   ],
   "source": [
    "data.info()"
   ]
  },
  {
   "cell_type": "code",
   "execution_count": 6,
   "id": "61f82413",
   "metadata": {},
   "outputs": [],
   "source": [
    "df=data"
   ]
  },
  {
   "cell_type": "code",
   "execution_count": 7,
   "id": "7e610910",
   "metadata": {},
   "outputs": [
    {
     "name": "stdout",
     "output_type": "stream",
     "text": [
      "<class 'pandas.core.frame.DataFrame'>\n",
      "RangeIndex: 19739 entries, 0 to 19738\n",
      "Data columns (total 29 columns):\n",
      " #   Column       Non-Null Count  Dtype  \n",
      "---  ------       --------------  -----  \n",
      " 0   date         19739 non-null  int32  \n",
      " 1   Appliances   19739 non-null  int32  \n",
      " 2   lights       19739 non-null  int32  \n",
      " 3   T1           19739 non-null  float64\n",
      " 4   RH_1         19739 non-null  float64\n",
      " 5   T2           19739 non-null  float64\n",
      " 6   RH_2         19739 non-null  float64\n",
      " 7   T3           19739 non-null  float64\n",
      " 8   RH_3         19739 non-null  float64\n",
      " 9   T4           19739 non-null  float64\n",
      " 10  RH_4         19739 non-null  float64\n",
      " 11  T5           19739 non-null  float64\n",
      " 12  RH_5         19739 non-null  float64\n",
      " 13  T6           19739 non-null  float64\n",
      " 14  RH_6         19739 non-null  float64\n",
      " 15  T7           19739 non-null  float64\n",
      " 16  RH_7         19739 non-null  float64\n",
      " 17  T8           19739 non-null  float64\n",
      " 18  RH_8         19739 non-null  float64\n",
      " 19  T9           19739 non-null  float64\n",
      " 20  RH_9         19739 non-null  float64\n",
      " 21  T_out        19739 non-null  float64\n",
      " 22  Press_mm_hg  19739 non-null  float64\n",
      " 23  RH_out       19739 non-null  float64\n",
      " 24  Windspeed    19739 non-null  float64\n",
      " 25  Visibility   19739 non-null  float64\n",
      " 26  Tdewpoint    19739 non-null  float64\n",
      " 27  rv1          19739 non-null  float64\n",
      " 28  rv2          19739 non-null  float64\n",
      "dtypes: float64(26), int32(3)\n",
      "memory usage: 4.1 MB\n"
     ]
    }
   ],
   "source": [
    "df.info()"
   ]
  },
  {
   "cell_type": "code",
   "execution_count": 8,
   "id": "00af49fc",
   "metadata": {},
   "outputs": [],
   "source": [
    "# 1. Date ustunini datetime formatga o‘tkazish va yangi ustunlar yaratish\n",
    "\n",
    "# Date ustunini datetime formatga o'tkazish\n",
    "df['date'] = pd.to_datetime(df['date'], dayfirst=True)\n",
    "\n",
    "# Yangi ustunlar yaratish\n",
    "df['hour'] = df['date'].dt.hour\n",
    "df['day'] = df['date'].dt.day\n",
    "df['weekday'] = df['date'].dt.weekday\n",
    "df = df.drop(columns=['date'])  # Eski 'date' ustunini o‘chirish"
   ]
  },
  {
   "cell_type": "code",
   "execution_count": 9,
   "id": "645b3164",
   "metadata": {},
   "outputs": [
    {
     "name": "stdout",
     "output_type": "stream",
     "text": [
      "<class 'pandas.core.frame.DataFrame'>\n",
      "RangeIndex: 19739 entries, 0 to 19738\n",
      "Data columns (total 31 columns):\n",
      " #   Column       Non-Null Count  Dtype  \n",
      "---  ------       --------------  -----  \n",
      " 0   Appliances   19739 non-null  int32  \n",
      " 1   lights       19739 non-null  int32  \n",
      " 2   T1           19739 non-null  float64\n",
      " 3   RH_1         19739 non-null  float64\n",
      " 4   T2           19739 non-null  float64\n",
      " 5   RH_2         19739 non-null  float64\n",
      " 6   T3           19739 non-null  float64\n",
      " 7   RH_3         19739 non-null  float64\n",
      " 8   T4           19739 non-null  float64\n",
      " 9   RH_4         19739 non-null  float64\n",
      " 10  T5           19739 non-null  float64\n",
      " 11  RH_5         19739 non-null  float64\n",
      " 12  T6           19739 non-null  float64\n",
      " 13  RH_6         19739 non-null  float64\n",
      " 14  T7           19739 non-null  float64\n",
      " 15  RH_7         19739 non-null  float64\n",
      " 16  T8           19739 non-null  float64\n",
      " 17  RH_8         19739 non-null  float64\n",
      " 18  T9           19739 non-null  float64\n",
      " 19  RH_9         19739 non-null  float64\n",
      " 20  T_out        19739 non-null  float64\n",
      " 21  Press_mm_hg  19739 non-null  float64\n",
      " 22  RH_out       19739 non-null  float64\n",
      " 23  Windspeed    19739 non-null  float64\n",
      " 24  Visibility   19739 non-null  float64\n",
      " 25  Tdewpoint    19739 non-null  float64\n",
      " 26  rv1          19739 non-null  float64\n",
      " 27  rv2          19739 non-null  float64\n",
      " 28  hour         19739 non-null  int32  \n",
      " 29  day          19739 non-null  int32  \n",
      " 30  weekday      19739 non-null  int32  \n",
      "dtypes: float64(26), int32(5)\n",
      "memory usage: 4.3 MB\n"
     ]
    }
   ],
   "source": [
    "df.info()"
   ]
  },
  {
   "cell_type": "code",
   "execution_count": 10,
   "id": "251366b1",
   "metadata": {},
   "outputs": [
    {
     "data": {
      "text/plain": [
       "Index(['Appliances', 'lights', 'T1', 'RH_1', 'T2', 'RH_2', 'T3', 'RH_3', 'T4',\n",
       "       'RH_4', 'T5', 'RH_5', 'T6', 'RH_6', 'T7', 'RH_7', 'T8', 'RH_8', 'T9',\n",
       "       'RH_9', 'T_out', 'Press_mm_hg', 'RH_out', 'Windspeed', 'Visibility',\n",
       "       'Tdewpoint', 'rv1', 'rv2', 'hour', 'day', 'weekday'],\n",
       "      dtype='object')"
      ]
     },
     "execution_count": 10,
     "metadata": {},
     "output_type": "execute_result"
    }
   ],
   "source": [
    "df.columns"
   ]
  },
  {
   "cell_type": "markdown",
   "id": "3e5ec526",
   "metadata": {},
   "source": [
    "# Feature Engineering "
   ]
  },
  {
   "cell_type": "code",
   "execution_count": 11,
   "id": "bd2a7980",
   "metadata": {},
   "outputs": [],
   "source": [
    "import pandas as pd\n",
    "import numpy as np\n",
    "\n",
    "# --------- 1. WEEKDAY (dam olish kuni belgisi) ---------\n",
    "# Ma'nosi: dam olish kuni bo'lsa 1, aks holda 0\n",
    "df['is_weekend'] = df['weekday'].apply(lambda x: 1 if x >= 5 else 0)\n",
    "\n",
    "# --------- 2. TIME OF DAY (kunning qaysi vaqti) ---------\n",
    "# Ma'nosi: tong, tush, kechki, tun\n",
    "def hour_category(hour):\n",
    "    if 5 <= hour < 12:\n",
    "        return 'morning'\n",
    "    elif 12 <= hour < 17:\n",
    "        return 'afternoon'\n",
    "    elif 17 <= hour < 21:\n",
    "        return 'evening'\n",
    "    else:\n",
    "        return 'night'\n",
    "\n",
    "df['time_of_day'] = df['hour'].apply(hour_category)\n",
    "\n",
    "# One-hot encoding (kategoriya ustunlarini raqamlashtirish)\n",
    "df = pd.get_dummies(df, columns=['time_of_day'], drop_first=True)\n",
    "\n",
    "# --------- 3. T1_T_out_diff ---------\n",
    "# Ma'nosi: Oshxona harorati - tashqi harorat\n",
    "df['T1_Tout_diff'] = df['T1'] - df['T_out']\n",
    "\n",
    "# --------- 4. avg_indoor_temp ---------\n",
    "# Ma'nosi: ichki xonalar haroratining o‘rtachasi\n",
    "temp_cols = ['T1','T2','T3','T4','T5','T6','T7','T8','T9']\n",
    "df['avg_indoor_temp'] = df[temp_cols].mean(axis=1)\n",
    "\n",
    "# --------- 5. RH1_RHout_diff ---------\n",
    "# Ma'nosi: Oshxona namligi - tashqi namlik\n",
    "df['RH1_RHout_diff'] = df['RH_1'] - df['RH_out']\n",
    "\n",
    "# --------- 6. avg_indoor_humidity ---------\n",
    "# Ma'nosi: barcha ichki xonalar namligining o‘rtachasi\n",
    "rh_cols = ['RH_1','RH_2','RH_3','RH_4','RH_5','RH_6','RH_7','RH_8','RH_9']\n",
    "df['avg_indoor_humidity'] = df[rh_cols].mean(axis=1)\n",
    "\n",
    "# --------- 7. weather_stress ---------\n",
    "# Ma'nosi: shamol tezligi × bosim (bosim + shamol stress darajasi)\n",
    "df['weather_stress'] = df['Windspeed'] * df['Press_mm_hg']\n",
    "\n",
    "# --------- 8. is_foggy ---------\n",
    "# Ma'nosi: agar ko‘rinish < 40 bo‘lsa tumanli deb belgilanadi\n",
    "df['is_foggy'] = df['Visibility'].apply(lambda x: 1 if x < 40 else 0)\n",
    "\n",
    "# --------- 9. rv1_rv2_sum ---------\n",
    "# Ma'nosi: ikki random ustunning yig‘indisi\n",
    "df['rv1_rv2_sum'] = df['rv1'] + df['rv2']\n"
   ]
  },
  {
   "cell_type": "code",
   "execution_count": 12,
   "id": "9e13e29f",
   "metadata": {},
   "outputs": [
    {
     "name": "stdout",
     "output_type": "stream",
     "text": [
      "<class 'pandas.core.frame.DataFrame'>\n",
      "RangeIndex: 19739 entries, 0 to 19738\n",
      "Data columns (total 39 columns):\n",
      " #   Column               Non-Null Count  Dtype  \n",
      "---  ------               --------------  -----  \n",
      " 0   Appliances           19739 non-null  int32  \n",
      " 1   lights               19739 non-null  int32  \n",
      " 2   T1                   19739 non-null  float64\n",
      " 3   RH_1                 19739 non-null  float64\n",
      " 4   T2                   19739 non-null  float64\n",
      " 5   RH_2                 19739 non-null  float64\n",
      " 6   T3                   19739 non-null  float64\n",
      " 7   RH_3                 19739 non-null  float64\n",
      " 8   T4                   19739 non-null  float64\n",
      " 9   RH_4                 19739 non-null  float64\n",
      " 10  T5                   19739 non-null  float64\n",
      " 11  RH_5                 19739 non-null  float64\n",
      " 12  T6                   19739 non-null  float64\n",
      " 13  RH_6                 19739 non-null  float64\n",
      " 14  T7                   19739 non-null  float64\n",
      " 15  RH_7                 19739 non-null  float64\n",
      " 16  T8                   19739 non-null  float64\n",
      " 17  RH_8                 19739 non-null  float64\n",
      " 18  T9                   19739 non-null  float64\n",
      " 19  RH_9                 19739 non-null  float64\n",
      " 20  T_out                19739 non-null  float64\n",
      " 21  Press_mm_hg          19739 non-null  float64\n",
      " 22  RH_out               19739 non-null  float64\n",
      " 23  Windspeed            19739 non-null  float64\n",
      " 24  Visibility           19739 non-null  float64\n",
      " 25  Tdewpoint            19739 non-null  float64\n",
      " 26  rv1                  19739 non-null  float64\n",
      " 27  rv2                  19739 non-null  float64\n",
      " 28  hour                 19739 non-null  int32  \n",
      " 29  day                  19739 non-null  int32  \n",
      " 30  weekday              19739 non-null  int32  \n",
      " 31  is_weekend           19739 non-null  int64  \n",
      " 32  T1_Tout_diff         19739 non-null  float64\n",
      " 33  avg_indoor_temp      19739 non-null  float64\n",
      " 34  RH1_RHout_diff       19739 non-null  float64\n",
      " 35  avg_indoor_humidity  19739 non-null  float64\n",
      " 36  weather_stress       19739 non-null  float64\n",
      " 37  is_foggy             19739 non-null  int64  \n",
      " 38  rv1_rv2_sum          19739 non-null  float64\n",
      "dtypes: float64(32), int32(5), int64(2)\n",
      "memory usage: 5.5 MB\n"
     ]
    }
   ],
   "source": [
    "df.info()"
   ]
  },
  {
   "cell_type": "markdown",
   "id": "c17c4f8e",
   "metadata": {},
   "source": [
    "# Feature selection"
   ]
  },
  {
   "cell_type": "code",
   "execution_count": null,
   "id": "40f657b8",
   "metadata": {},
   "outputs": [],
   "source": [
    "import numpy as np\n",
    "import pandas as pd\n",
    "from sklearn.feature_selection import mutual_info_regression\n",
    "\n",
    "# Xususiyatlar (featurelar)\n",
    "x = df.drop(columns=[\"personality_type\"])   # target ustunni olib tashlaymiz\n",
    "\n",
    "# Target\n",
    "y = df[\"personality_type\"]\n",
    "\n",
    "# Inf qiymatlarni NaN ga o'zgartirish\n",
    "x = x.replace([np.inf, -np.inf], np.nan)\n",
    "\n",
    "# X va y ni birlashtirib, NaN bo‘lgan satrlarni tashlash\n",
    "df_clean = pd.concat([x, y], axis=1).dropna()\n",
    "\n",
    "x_clean = df_clean.drop('personality_type', axis=1)\n",
    "y_clean = df_clean['personality_type']\n",
    "\n",
    "# Mutual information hisoblash\n",
    "mi = mutual_info_regression(x_clean, y_clean, random_state=42)\n",
    "mi_series = pd.Series(mi, index=x_clean.columns).sort_values(ascending=False)\n",
    "\n",
    "# Vizualizatsiya\n",
    "import matplotlib.pyplot as plt\n",
    "import seaborn as sns\n",
    "\n",
    "plt.figure(figsize=(12,6))\n",
    "sns.barplot(x=mi_series.index, y=mi_series.values)\n",
    "plt.xticks(rotation=90)\n",
    "plt.ylabel(\"Mutual Information (personality_type bilan)\")\n",
    "plt.title(\"Feature'larning personality_type bilan bogliqligi (Mutual Info)\")\n",
    "plt.show()\n",
    "\n",
    " # Shu kod bilan biz:\n",
    "\n",
    " # NaN va inf qiymatlarni tozalaymiz\n",
    "\n",
    " # Mutual information hisoblaymiz\n",
    "\n",
    "# Eng predictive feature’larni vizual ko‘ramiz"
   ]
  },
  {
   "cell_type": "code",
   "execution_count": null,
   "id": "bfdb5f28",
   "metadata": {},
   "outputs": [],
   "source": []
  },
  {
   "cell_type": "code",
   "execution_count": null,
   "id": "5dbc9d2b",
   "metadata": {},
   "outputs": [],
   "source": []
  },
  {
   "cell_type": "code",
   "execution_count": null,
   "id": "630ca725",
   "metadata": {},
   "outputs": [],
   "source": []
  },
  {
   "cell_type": "code",
   "execution_count": null,
   "id": "75452916",
   "metadata": {},
   "outputs": [],
   "source": []
  },
  {
   "cell_type": "code",
   "execution_count": null,
   "id": "796eafbc",
   "metadata": {},
   "outputs": [],
   "source": []
  }
 ],
 "metadata": {
  "kernelspec": {
   "display_name": "Python 3",
   "language": "python",
   "name": "python3"
  },
  "language_info": {
   "codemirror_mode": {
    "name": "ipython",
    "version": 3
   },
   "file_extension": ".py",
   "mimetype": "text/x-python",
   "name": "python",
   "nbconvert_exporter": "python",
   "pygments_lexer": "ipython3",
   "version": "3.11.9"
  }
 },
 "nbformat": 4,
 "nbformat_minor": 5
}
